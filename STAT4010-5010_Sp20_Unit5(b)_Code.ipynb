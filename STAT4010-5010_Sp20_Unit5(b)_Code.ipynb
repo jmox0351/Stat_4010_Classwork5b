{
 "cells": [
  {
   "cell_type": "markdown",
   "metadata": {},
   "source": [
    "# Unit #5 (b) Code\n",
    "\n",
    "The goal of this notebook is to learn to analyze experimental data using ANOVA, ANCOVA, and other experimental design methods. "
   ]
  },
  {
   "cell_type": "markdown",
   "metadata": {},
   "source": [
    "## Problem #1\n",
    "\n",
    "(Data source: https://online.stat.psu.edu/stat502/lesson/6/6.3)\n",
    "\n",
    "The plants data consists of measurements of the heights of plants for four different fertilizer treatments (\"0\" = the standard treatment (control), and \"1\"-\"3\" are some potentially new treatment. The dataset also contains a factor variable called \"block\" which represent the different rows that the plants were arranged in. It is believed that in greenhouse within which the experiment is taking place, some micro-environmental variation is present, say, due to the glass wall on one end of the bench, and the open walkway at the other end.\n",
    "\n",
    "\n",
    "#### (a) Load the data, save the treatment variable as a factor, and print a summary of the variables. Answer the following:\n",
    "\n",
    "1. Does this study involve replication?\n",
    "2. Is this a full factorial design?\n",
    "3. Are there repeated measures?"
   ]
  },
  {
   "cell_type": "code",
   "execution_count": 16,
   "metadata": {
    "scrolled": true
   },
   "outputs": [
    {
     "data": {
      "text/plain": [
       "       y         treatment     block    \n",
       " Min.   :19.50   0:6       Min.   :1.0  \n",
       " 1st Qu.:22.50   1:6       1st Qu.:2.0  \n",
       " Median :27.25   2:6       Median :3.5  \n",
       " Mean   :26.17   3:6       Mean   :3.5  \n",
       " 3rd Qu.:28.75             3rd Qu.:5.0  \n",
       " Max.   :32.00             Max.   :6.0  "
      ]
     },
     "metadata": {},
     "output_type": "display_data"
    },
    {
     "data": {
      "text/html": [
       "<ol class=list-inline>\n",
       "\t<li>24</li>\n",
       "\t<li>3</li>\n",
       "</ol>\n"
      ],
      "text/latex": [
       "\\begin{enumerate*}\n",
       "\\item 24\n",
       "\\item 3\n",
       "\\end{enumerate*}\n"
      ],
      "text/markdown": [
       "1. 24\n",
       "2. 3\n",
       "\n",
       "\n"
      ],
      "text/plain": [
       "[1] 24  3"
      ]
     },
     "metadata": {},
     "output_type": "display_data"
    }
   ],
   "source": [
    "library(tidyverse)\n",
    "library(dplyr)\n",
    "plants = read.table(\"https://www.colorado.edu/amath/sites/default/files/attached-files/plants-rcbd.txt\", \n",
    "           sep = \"\\t\", header = TRUE) #source of data: https://online.stat.psu.edu/stat502/lesson/1\n",
    "plants$treatment = as.factor(plants$treatment)\n",
    "summary(plants)\n",
    "dim(plants)"
   ]
  },
  {
   "cell_type": "markdown",
   "metadata": {},
   "source": [
    "This study does not have replication because of the blocking variable. It is a full factorial design and there are no repeated measures."
   ]
  },
  {
   "cell_type": "markdown",
   "metadata": {},
   "source": [
    "For now, let's ignore the block variable, and assume that all units are the same with respect to other variables that impact plant height (e.g., sunlight). Assume that the treatments were randomly assigned to plants, so that we have a completely randomized design (CRD).  \n",
    "\n",
    "#### (b) Analyze this CRD experiment to answer two research questions:\n",
    "1. Are there differences among the treatment groups?\n",
    "2. Is there a difference between level 1 of the treatment and level 3 of the treatment?\n",
    "\n",
    "#### Construct plots for an informal analysis, but also, conduct a formal analysis appropriate for a CRD."
   ]
  },
  {
   "cell_type": "code",
   "execution_count": 50,
   "metadata": {},
   "outputs": [
    {
     "data": {
      "text/plain": [
       "\n",
       "Call:\n",
       "lm(formula = y ~ treatment, data = plants)\n",
       "\n",
       "Residuals:\n",
       "    Min      1Q  Median      3Q     Max \n",
       "-3.6000 -0.7750  0.0000  0.8833  3.4000 \n",
       "\n",
       "Coefficients:\n",
       "            Estimate Std. Error t value Pr(>|t|)    \n",
       "(Intercept)  21.0000     0.7132  29.446  < 2e-16 ***\n",
       "treatment1    7.6000     1.0086   7.535 2.90e-07 ***\n",
       "treatment2    4.8667     1.0086   4.825 0.000103 ***\n",
       "treatment3    8.2000     1.0086   8.130 9.07e-08 ***\n",
       "---\n",
       "Signif. codes:  0 '***' 0.001 '**' 0.01 '*' 0.05 '.' 0.1 ' ' 1\n",
       "\n",
       "Residual standard error: 1.747 on 20 degrees of freedom\n",
       "Multiple R-squared:  0.8047,\tAdjusted R-squared:  0.7754 \n",
       "F-statistic: 27.46 on 3 and 20 DF,  p-value: 2.712e-07\n"
      ]
     },
     "metadata": {},
     "output_type": "display_data"
    },
    {
     "data": {
      "text/html": [
       "<table>\n",
       "<thead><tr><th></th><th scope=col>Df</th><th scope=col>Sum Sq</th><th scope=col>Mean Sq</th><th scope=col>F value</th><th scope=col>Pr(&gt;F)</th></tr></thead>\n",
       "<tbody>\n",
       "\t<tr><th scope=row>treatment</th><td> 3          </td><td>251.44000   </td><td>83.813333   </td><td>27.46477    </td><td>2.711994e-07</td></tr>\n",
       "\t<tr><th scope=row>Residuals</th><td>20          </td><td> 61.03333   </td><td> 3.051667   </td><td>      NA    </td><td>          NA</td></tr>\n",
       "</tbody>\n",
       "</table>\n"
      ],
      "text/latex": [
       "\\begin{tabular}{r|lllll}\n",
       "  & Df & Sum Sq & Mean Sq & F value & Pr(>F)\\\\\n",
       "\\hline\n",
       "\ttreatment &  3           & 251.44000    & 83.813333    & 27.46477     & 2.711994e-07\\\\\n",
       "\tResiduals & 20           &  61.03333    &  3.051667    &       NA     &           NA\\\\\n",
       "\\end{tabular}\n"
      ],
      "text/markdown": [
       "\n",
       "| <!--/--> | Df | Sum Sq | Mean Sq | F value | Pr(>F) |\n",
       "|---|---|---|---|---|---|\n",
       "| treatment |  3           | 251.44000    | 83.813333    | 27.46477     | 2.711994e-07 |\n",
       "| Residuals | 20           |  61.03333    |  3.051667    |       NA     |           NA |\n",
       "\n"
      ],
      "text/plain": [
       "          Df Sum Sq    Mean Sq   F value  Pr(>F)      \n",
       "treatment  3 251.44000 83.813333 27.46477 2.711994e-07\n",
       "Residuals 20  61.03333  3.051667       NA           NA"
      ]
     },
     "metadata": {},
     "output_type": "display_data"
    },
    {
     "data": {
      "text/plain": [
       "\n",
       "\t Simultaneous Tests for General Linear Hypotheses\n",
       "\n",
       "Multiple Comparisons of Means: User-defined Contrasts\n",
       "\n",
       "\n",
       "Fit: lm(formula = y ~ treatment, data = plants)\n",
       "\n",
       "Linear Hypotheses:\n",
       "       Estimate Std. Error t value Pr(>|t|)\n",
       "1 == 0   -0.600      1.009  -0.595    0.559\n",
       "(Adjusted p values reported -- single-step method)\n"
      ]
     },
     "metadata": {},
     "output_type": "display_data"
    }
   ],
   "source": [
    "library(gridExtra)\n",
    "library(multcomp)\n",
    "lmod = lm(data = plants, y~treatment)\n",
    "summary(lmod)\n",
    "anova(lmod)\n",
    "contrast = glht(lmod, linfct = mcp(treatment = c(0,1,0,-1)))\n",
    "summary(contrast)"
   ]
  },
  {
   "cell_type": "code",
   "execution_count": 14,
   "metadata": {
    "scrolled": true
   },
   "outputs": [
    {
     "name": "stderr",
     "output_type": "stream",
     "text": [
      "Warning message:\n",
      "\"`stat` is deprecated\"`geom_smooth()` using method = 'loess' and formula 'y ~ x'\n",
      "Warning message in simpleLoess(y, x, w, span, degree = degree, parametric = parametric, :\n",
      "\"pseudoinverse used at 20.959\"Warning message in simpleLoess(y, x, w, span, degree = degree, parametric = parametric, :\n",
      "\"neighborhood radius 7.641\"Warning message in simpleLoess(y, x, w, span, degree = degree, parametric = parametric, :\n",
      "\"reciprocal condition number  1.0146e-016\"Warning message in simpleLoess(y, x, w, span, degree = degree, parametric = parametric, :\n",
      "\"There are other near singularities as well. 11.386\"`geom_smooth()` using method = 'loess' and formula 'y ~ x'\n",
      "Warning message in simpleLoess(y, x, w, span, degree = degree, parametric = parametric, :\n",
      "\"pseudoinverse used at 20.959\"Warning message in simpleLoess(y, x, w, span, degree = degree, parametric = parametric, :\n",
      "\"neighborhood radius 7.641\"Warning message in simpleLoess(y, x, w, span, degree = degree, parametric = parametric, :\n",
      "\"reciprocal condition number  1.0146e-016\"Warning message in simpleLoess(y, x, w, span, degree = degree, parametric = parametric, :\n",
      "\"There are other near singularities as well. 11.386\"`geom_smooth()` using method = 'loess' and formula 'y ~ x'\n",
      "Warning message in simpleLoess(y, x, w, span, degree = degree, parametric = parametric, :\n",
      "\"pseudoinverse used at 0.16667\"Warning message in simpleLoess(y, x, w, span, degree = degree, parametric = parametric, :\n",
      "\"neighborhood radius 8.335e-014\"Warning message in simpleLoess(y, x, w, span, degree = degree, parametric = parametric, :\n",
      "\"reciprocal condition number  0\"Warning message in simpleLoess(y, x, w, span, degree = degree, parametric = parametric, :\n",
      "\"There are other near singularities as well. 7.7037e-034\""
     ]
    },
    {
     "data": {
      "image/png": "[encoded data removed]",
      "text/plain": [
       "plot without title"
      ]
     },
     "metadata": {},
     "output_type": "display_data"
    }
   ],
   "source": [
    "p1 <- qplot(data = lmod, x = .fitted, y = .resid) + geom_hline(yintercept = 0) + geom_smooth(se = FALSE) + ggtitle('Residuals vs. Fitted')\n",
    "p2 <- qplot(data = lmod, sample =.stdresid, stat = \"qq\") + geom_abline(size = 1, color = 'red') + ggtitle('Normed QQ')\n",
    "p3 <- qplot(data = lmod, x = .fitted, y = sqrt(abs(.stdresid))) + geom_smooth(se = FALSE) + ggtitle('Scale-Location')\n",
    "p4 <- qplot(data = lmod, .hat, .stdresid) + geom_smooth(se = FALSE) + ggtitle('Residuals vs. Leverage')\n",
    "grid.arrange(p1,p2,p3,p4)"
   ]
  },
  {
   "cell_type": "markdown",
   "metadata": {},
   "source": [
    "The anova of the linear model with y as the response and treatment as a predictor variable has a p-value below 0.05 and we so we should reject the $H_0$: The model without the treatment parameter is sufficent. Thus there is a difference based on the treatment recieved. However looking at our diagonistic plots we see that several of the model assumptions are clearly violated, and we see our 4 treatments grouped in the fitted vs residual plot, and the scale-location plot so our CRD is an insufficent model, and we should attempt to block the nuisance variable. We cannot say at the 95% confidence level that there is a difference in treatment 1 and 3. Our tukey test shows that the 95% CI in the diffence between the means covers 0 so we will fail to reject $H_0: \\mu_1 = \\mu_3$"
   ]
  },
  {
   "cell_type": "markdown",
   "metadata": {},
   "source": [
    "#### Show that the least squares estimates above are equivalent to conditional means, say, $\\bar{y}_1, \\bar{y}_2, \\text{ and } \\bar{y}_3$. "
   ]
  },
  {
   "cell_type": "code",
   "execution_count": 60,
   "metadata": {},
   "outputs": [
    {
     "ename": "ERROR",
     "evalue": "Error in mean.default(plants$y, plants$treatment == 0): 'trim' must be numeric of length one\n",
     "output_type": "error",
     "traceback": [
      "Error in mean.default(plants$y, plants$treatment == 0): 'trim' must be numeric of length one\nTraceback:\n",
      "1. cat(mean(plants$y, plants$treatment == 0))",
      "2. mean(plants$y, plants$treatment == 0)",
      "3. mean.default(plants$y, plants$treatment == 0)",
      "4. stop(\"'trim' must be numeric of length one\")"
     ]
    }
   ],
   "source": [
    "cat(mean(plants$y, plants$treatment==0))"
   ]
  },
  {
   "cell_type": "markdown",
   "metadata": {},
   "source": [
    "The full F-test has a small p-value, which suggests that there are some differences in mean plant height across the treatment groups. Our estimates of those differences are:\n",
    "\n",
    "1. Difference between the control and treatment 1: 7.6\n",
    "2. Difference between the control and treatment 2: $\\approx 4.9$\n",
    "3. Difference between the control and treatment 3: 8.2\n",
    "\n",
    "How could you estimate the difference between treatment 1 and treatment 3? Further how could you test whether that difference is statistically significant? \n",
    "\n",
    "We can use a statistical tool called **contrasts**. \n",
    "\n",
    "**Definition**: Let $\\theta_1,...,\\theta_p$ be a set of parameters and $c_1,...,c_p$ be known constants. Then\n",
    "\n",
    "\\begin{align*}\n",
    "\\gamma = \\sum^p_{i=1}c_i\\theta_i\n",
    "\\end{align*}\n",
    "\n",
    "is a constrast if \n",
    "\n",
    "\\begin{align*}\n",
    "\\sum^p_{i=1}c_i = 0\n",
    "\\end{align*}\n",
    "\n",
    "Contrasts can help us evaluate hypotheses about comparisons beyond the ones listed above (e.g., control against other treatments). \n",
    "\n",
    "For example, suppose that we want to test our second research hypothesis: whether the mean of plant height in treatment 1 ($\\mu_1$) is different from the mean plant height for treatment 3 ($\\mu_3$): \n",
    "\n",
    "$$H_0: \\mu_1 = \\mu_3 \\,\\,\\, \\text{ which is equivalent to } \\,\\, H_0: \\mu_1 - \\mu_3 = 0.$$ \n",
    "\n",
    "We can also think of this hypothesis as: \n",
    "\n",
    "$$H_0: \\underbrace{(0)\\mu_0 + (1)\\mu_1 + (0)\\mu_2 + (-1)\\mu_3}_{\\gamma} = 0.$$ \n",
    "\n",
    "The left hand side of the expression in $H_0$ is a contrast with $c_0 = c_2 = 0$ and $c_1 = -c_3 = 1$ and $\\theta_i = \\mu_i, \\,\\,\\,\\, i=0,...,3$.\n",
    "\n",
    "The obvious estimator of $$\\gamma = (0)\\mu_0 + (1)\\mu_1 + (0)\\mu_2 + (-1)\\mu_3$$ is $$\\widehat\\gamma = (0)\\bar{Y}_0 + (1)\\bar{Y}_1 + (0)\\bar{Y}_2 + (-1)\\bar{Y}_3,$$ just a substitution of sample means for population means. To conduct the hypothesis test, we need $E(\\widehat\\gamma)$ and $Var(\\widehat\\gamma)$:\n",
    "\n",
    "$$E(\\widehat\\gamma) = E(\\bar{Y}_1 -\\bar{Y}_3) = E(\\bar{Y}_1) - E(\\bar{Y}_3) = \\mu_1 - \\mu_3 \\overset{H_0}{=} 0$$\n",
    "\n",
    "$$Var(\\widehat\\gamma) = Var(\\bar{Y}_1 -\\bar{Y}_3) = Var(\\bar{Y}_1) + Var(\\bar{Y}_3) = \\sigma^2\\bigg(\\frac{1}{n_1} + \\frac{1}{n_3} \\bigg)$$\n",
    "\n",
    "So, our test statistic is \n",
    "\n",
    "\\begin{align*}\n",
    "t = \\frac{\\widehat\\gamma}{se(\\widehat\\gamma)} = \\frac{\\bar{Y}_1 -\\bar{Y}_3}{\\sigma\\bigg(\\frac{1}{n_1} + \\frac{1}{n_3} \\bigg)^{1/2}} = \\frac{(\\widehat\\beta_0 + \\widehat\\beta_1) - (\\widehat\\beta_0 + \\widehat\\beta_3)}{\\sigma\\bigg(\\frac{1}{n_1} + \\frac{1}{n_3} \\bigg)^{1/2}} = \\frac{ \\widehat\\beta_1 -  \\widehat\\beta_3}{\\sigma\\bigg(\\frac{1}{n_1} + \\frac{1}{n_3} \\bigg)^{1/2}} \\sim t(n-4).\n",
    "\\end{align*}\n",
    "\n",
    "\n",
    "#### Test these hypotheses using the CRD plant data."
   ]
  },
  {
   "cell_type": "code",
   "execution_count": 28,
   "metadata": {},
   "outputs": [
    {
     "name": "stdout",
     "output_type": "stream",
     "text": [
      "The t-stat for gamma of treatment 1 - treatment 3  -0.2819482 \n",
      "The t-stat for gamma of Control - treatment 1  6.296843 \n",
      "The t-stat for gamma of Control - treatment 2  7.581274 \n",
      "The t-stat for gamma of Control - treatment 3  6.014895 \n",
      "The t-stat for 95% 2 sided CI  2.085963"
     ]
    }
   ],
   "source": [
    "cat('The t-stat for gamma of treatment 1 - treatment 3 ', (coef(lmod)[2]-coef(lmod)[4])/(sd(plants$y)*sqrt(1/3)), '\\n')\n",
    "cat('The t-stat for gamma of Control - treatment 1 ', (coef(lmod)[1]-coef(lmod)[2])/(sd(plants$y)*sqrt(1/3)), '\\n')\n",
    "cat('The t-stat for gamma of Control - treatment 2 ', (coef(lmod)[1]-coef(lmod)[3])/(sd(plants$y)*sqrt(1/3)), '\\n')\n",
    "cat('The t-stat for gamma of Control - treatment 3 ', (coef(lmod)[1]-coef(lmod)[4])/(sd(plants$y)*sqrt(1/3)), '\\n')\n",
    "cat('The t-stat for 95% 2 sided CI ',qt(0.975,20))"
   ]
  },
  {
   "cell_type": "markdown",
   "metadata": {},
   "source": [
    "From above we can see that if the t-stat is between (-2.085963, 2.085963) then we cannot reject the NULL: $\\mu_i = \\mu_j$ the only case that this occurs for is the difference between treatment 1 and 3. For the difference between the control and all 3 of the treatments we can say at a 95% confidence level that there is a difference in the means"
   ]
  },
  {
   "cell_type": "markdown",
   "metadata": {},
   "source": [
    "#### (c) How can we relate the effects found above to *causal* effects? Consider the three important conditions for establishing causality from our [introduction to experimental design](https://youtu.be/93XExMDheRk) in your answer. "
   ]
  },
  {
   "cell_type": "markdown",
   "metadata": {},
   "source": [
    "Our three conditions are, emperical association, correct temporial relationship, and nonspuriousness. The first two conditions are met, there is are theoretical considerations that tell us that fertilizer effects plant growth by changing soil chemistry, and the temporial relationship is correct, the treatment comes before the plant growth measurements. However the nonspuriousness condition is violated. There is clearly a confounding variable which is why a CRBD would be a superior option"
   ]
  },
  {
   "cell_type": "markdown",
   "metadata": {},
   "source": [
    "## Problem #2\n",
    "\n",
    "In this problem, let's continue with the plants data, but reintroduce the blocking variable. Recall that the blocks represent the different rows that the plants were arranged in. It is believed that in greenhouse within which the experiment is taking place, some micro-environmental variation is present, say, due to the glass wall on one end of the bench, and the open walkway at the other end. Since this is a known nuisance variable, we should take it into account. \n",
    "\n",
    "#### Analyze the data as a randomized complete block design. Perform tests to answer the research questions from problem #1:\n",
    "\n",
    "1. Are there differences among the treatment groups?\n",
    "2. Is there a difference between level 1 of the treatment and level 3 of the treatment?\n"
   ]
  },
  {
   "cell_type": "code",
   "execution_count": 51,
   "metadata": {
    "scrolled": true
   },
   "outputs": [
    {
     "data": {
      "text/plain": [
       "\n",
       "Call:\n",
       "lm(formula = y ~ factor(block) + treatment, data = plants)\n",
       "\n",
       "Residuals:\n",
       "    Min      1Q  Median      3Q     Max \n",
       "-1.0583 -0.3521 -0.0125  0.2792  1.1917 \n",
       "\n",
       "Coefficients:\n",
       "               Estimate Std. Error t value Pr(>|t|)    \n",
       "(Intercept)     18.4583     0.4392  42.030  < 2e-16 ***\n",
       "factor(block)2   1.6750     0.5071   3.303 0.004829 ** \n",
       "factor(block)3   2.4250     0.5071   4.782 0.000242 ***\n",
       "factor(block)4   2.7750     0.5071   5.472 6.43e-05 ***\n",
       "factor(block)5   3.6250     0.5071   7.148 3.35e-06 ***\n",
       "factor(block)6   4.7500     0.5071   9.367 1.17e-07 ***\n",
       "treatment1       7.6000     0.4141  18.355 1.09e-11 ***\n",
       "treatment2       4.8667     0.4141  11.754 5.74e-09 ***\n",
       "treatment3       8.2000     0.4141  19.804 3.64e-12 ***\n",
       "---\n",
       "Signif. codes:  0 '***' 0.001 '**' 0.01 '*' 0.05 '.' 0.1 ' ' 1\n",
       "\n",
       "Residual standard error: 0.7172 on 15 degrees of freedom\n",
       "Multiple R-squared:  0.9753,\tAdjusted R-squared:  0.9621 \n",
       "F-statistic: 74.07 on 8 and 15 DF,  p-value: 1.163e-10\n"
      ]
     },
     "metadata": {},
     "output_type": "display_data"
    },
    {
     "data": {
      "text/html": [
       "<table>\n",
       "<thead><tr><th></th><th scope=col>Df</th><th scope=col>Sum Sq</th><th scope=col>Mean Sq</th><th scope=col>F value</th><th scope=col>Pr(&gt;F)</th></tr></thead>\n",
       "<tbody>\n",
       "\t<tr><th scope=row>factor(block)</th><td> 5          </td><td> 53.31833   </td><td>10.6636667  </td><td> 20.73299   </td><td>2.986726e-06</td></tr>\n",
       "\t<tr><th scope=row>treatment</th><td> 3          </td><td>251.44000   </td><td>83.8133333  </td><td>162.95528   </td><td>1.143729e-11</td></tr>\n",
       "\t<tr><th scope=row>Residuals</th><td>15          </td><td>  7.71500   </td><td> 0.5143333  </td><td>       NA   </td><td>          NA</td></tr>\n",
       "</tbody>\n",
       "</table>\n"
      ],
      "text/latex": [
       "\\begin{tabular}{r|lllll}\n",
       "  & Df & Sum Sq & Mean Sq & F value & Pr(>F)\\\\\n",
       "\\hline\n",
       "\tfactor(block) &  5           &  53.31833    & 10.6636667   &  20.73299    & 2.986726e-06\\\\\n",
       "\ttreatment &  3           & 251.44000    & 83.8133333   & 162.95528    & 1.143729e-11\\\\\n",
       "\tResiduals & 15           &   7.71500    &  0.5143333   &        NA    &           NA\\\\\n",
       "\\end{tabular}\n"
      ],
      "text/markdown": [
       "\n",
       "| <!--/--> | Df | Sum Sq | Mean Sq | F value | Pr(>F) |\n",
       "|---|---|---|---|---|---|\n",
       "| factor(block) |  5           |  53.31833    | 10.6636667   |  20.73299    | 2.986726e-06 |\n",
       "| treatment |  3           | 251.44000    | 83.8133333   | 162.95528    | 1.143729e-11 |\n",
       "| Residuals | 15           |   7.71500    |  0.5143333   |        NA    |           NA |\n",
       "\n"
      ],
      "text/plain": [
       "              Df Sum Sq    Mean Sq    F value   Pr(>F)      \n",
       "factor(block)  5  53.31833 10.6636667  20.73299 2.986726e-06\n",
       "treatment      3 251.44000 83.8133333 162.95528 1.143729e-11\n",
       "Residuals     15   7.71500  0.5143333        NA           NA"
      ]
     },
     "metadata": {},
     "output_type": "display_data"
    },
    {
     "data": {
      "text/plain": [
       "\n",
       "\t Simultaneous Tests for General Linear Hypotheses\n",
       "\n",
       "Multiple Comparisons of Means: User-defined Contrasts\n",
       "\n",
       "\n",
       "Fit: lm(formula = y ~ factor(block) + treatment, data = plants)\n",
       "\n",
       "Linear Hypotheses:\n",
       "       Estimate Std. Error t value Pr(>|t|)\n",
       "1 == 0  -0.6000     0.4141  -1.449    0.168\n",
       "(Adjusted p values reported -- single-step method)\n"
      ]
     },
     "metadata": {},
     "output_type": "display_data"
    }
   ],
   "source": [
    "lmod2 = lm(data = plants, y ~ factor(block) + treatment)\n",
    "summary(lmod2)\n",
    "anova(lmod2)\n",
    "contrast = glht(lmod2, linfct = mcp(treatment = c(0,1,0,-1)))\n",
    "summary(contrast)"
   ]
  },
  {
   "cell_type": "markdown",
   "metadata": {},
   "source": [
    "We can see that the p-value has decreased for the treatment 1 vs. 3 but remains well above 0.05 therefor we will not reject the $H_0: \\mu_1 = \\mu_3$"
   ]
  },
  {
   "cell_type": "code",
   "execution_count": 31,
   "metadata": {},
   "outputs": [
    {
     "name": "stderr",
     "output_type": "stream",
     "text": [
      "Warning message:\n",
      "\"`stat` is deprecated\"`geom_smooth()` using method = 'loess' and formula 'y ~ x'\n",
      "`geom_smooth()` using method = 'loess' and formula 'y ~ x'\n",
      "`geom_smooth()` using method = 'loess' and formula 'y ~ x'\n",
      "Warning message in simpleLoess(y, x, w, span, degree = degree, parametric = parametric, :\n",
      "\"pseudoinverse used at 0.375\"Warning message in simpleLoess(y, x, w, span, degree = degree, parametric = parametric, :\n",
      "\"neighborhood radius 1.1102e-016\"Warning message in simpleLoess(y, x, w, span, degree = degree, parametric = parametric, :\n",
      "\"reciprocal condition number  5.4914e-017\""
     ]
    },
    {
     "data": {
      "image/png": "[encoded data removed]",
      "text/plain": [
       "plot without title"
      ]
     },
     "metadata": {},
     "output_type": "display_data"
    }
   ],
   "source": [
    "p1 <- qplot(data = lmod2, x = .fitted, y = .resid) + geom_hline(yintercept = 0) + geom_smooth(se = FALSE) + ggtitle('Residuals vs. Fitted')\n",
    "p2 <- qplot(data = lmod2, sample =.stdresid, stat = \"qq\") + geom_abline(size = 1, color = 'red') + ggtitle('Normed QQ')\n",
    "p3 <- qplot(data = lmod2, x = .fitted, y = sqrt(abs(.stdresid))) + geom_smooth(se = FALSE) + ggtitle('Scale-Location')\n",
    "p4 <- qplot(data = lmod2, .hat, .stdresid) + geom_smooth(se = FALSE) + ggtitle('Residuals vs. Leverage')\n",
    "grid.arrange(p1,p2,p3,p4)"
   ]
  },
  {
   "cell_type": "markdown",
   "metadata": {},
   "source": []
  },
  {
   "cell_type": "markdown",
   "metadata": {},
   "source": [
    "## Problem #3\n",
    "\n",
    "Consider a hardness testing machine that presses a rod with a pointed tip into a metal specimen with a known force. By measuring the depth of the depression caused by the tip, the hardness of the specimen is determined.\n",
    "\n",
    "Suppose we wish to determine whether or not four different tips produce different readings on a hardness testing machine. The experimenter has decided to obtain four observations on Rockwell C-scale hardness for each tip. There is only one factor - tip type - and a completely randomized single-factor design would consist of randomly assigning each one of the $4 \\times 4 = 16$ runs to an experimental unit, that is, a metal coupon, and observing the hardness reading that results. Thus, 16 different metal test coupons would be required in this experiment, one for each run in the design. \n",
    "\n",
    "There is a potentially serious problem with a completely randomized experiment in this design situation. If the metal coupons differ slightly in their hardness, as might happen if they are taken from ingots that are produced in different heats, the experimental units (the coupons) will contribute to the variability observed in the hardness data. As a result, the experimental error will reflect both random error and variability between coupons. We would like to make the experimental error as small as possible; that is, we would like to remove the variability between coupons from the experimental error. A design that would accomplish this requires the experimenter to test each tip once on each of four coupons.”"
   ]
  },
  {
   "cell_type": "code",
   "execution_count": 34,
   "metadata": {
    "scrolled": true
   },
   "outputs": [
    {
     "data": {
      "text/html": [
       "<table>\n",
       "<thead><tr><th scope=col>y</th><th scope=col>tip</th><th scope=col>coupon</th></tr></thead>\n",
       "<tbody>\n",
       "\t<tr><td> 9.3</td><td>1   </td><td>1   </td></tr>\n",
       "\t<tr><td> 9.4</td><td>1   </td><td>2   </td></tr>\n",
       "\t<tr><td> 9.6</td><td>1   </td><td>3   </td></tr>\n",
       "\t<tr><td>10.0</td><td>1   </td><td>4   </td></tr>\n",
       "\t<tr><td> 9.4</td><td>2   </td><td>1   </td></tr>\n",
       "\t<tr><td> 9.3</td><td>2   </td><td>2   </td></tr>\n",
       "\t<tr><td> 9.8</td><td>2   </td><td>3   </td></tr>\n",
       "\t<tr><td> 9.9</td><td>2   </td><td>4   </td></tr>\n",
       "\t<tr><td> 9.2</td><td>3   </td><td>1   </td></tr>\n",
       "\t<tr><td> 9.4</td><td>3   </td><td>2   </td></tr>\n",
       "\t<tr><td> 9.5</td><td>3   </td><td>3   </td></tr>\n",
       "\t<tr><td> 9.7</td><td>3   </td><td>4   </td></tr>\n",
       "\t<tr><td> 9.7</td><td>4   </td><td>1   </td></tr>\n",
       "\t<tr><td> 9.6</td><td>4   </td><td>2   </td></tr>\n",
       "\t<tr><td>10.0</td><td>4   </td><td>3   </td></tr>\n",
       "\t<tr><td>10.2</td><td>4   </td><td>4   </td></tr>\n",
       "</tbody>\n",
       "</table>\n"
      ],
      "text/latex": [
       "\\begin{tabular}{r|lll}\n",
       " y & tip & coupon\\\\\n",
       "\\hline\n",
       "\t  9.3 & 1    & 1   \\\\\n",
       "\t  9.4 & 1    & 2   \\\\\n",
       "\t  9.6 & 1    & 3   \\\\\n",
       "\t 10.0 & 1    & 4   \\\\\n",
       "\t  9.4 & 2    & 1   \\\\\n",
       "\t  9.3 & 2    & 2   \\\\\n",
       "\t  9.8 & 2    & 3   \\\\\n",
       "\t  9.9 & 2    & 4   \\\\\n",
       "\t  9.2 & 3    & 1   \\\\\n",
       "\t  9.4 & 3    & 2   \\\\\n",
       "\t  9.5 & 3    & 3   \\\\\n",
       "\t  9.7 & 3    & 4   \\\\\n",
       "\t  9.7 & 4    & 1   \\\\\n",
       "\t  9.6 & 4    & 2   \\\\\n",
       "\t 10.0 & 4    & 3   \\\\\n",
       "\t 10.2 & 4    & 4   \\\\\n",
       "\\end{tabular}\n"
      ],
      "text/markdown": [
       "\n",
       "| y | tip | coupon |\n",
       "|---|---|---|\n",
       "|  9.3 | 1    | 1    |\n",
       "|  9.4 | 1    | 2    |\n",
       "|  9.6 | 1    | 3    |\n",
       "| 10.0 | 1    | 4    |\n",
       "|  9.4 | 2    | 1    |\n",
       "|  9.3 | 2    | 2    |\n",
       "|  9.8 | 2    | 3    |\n",
       "|  9.9 | 2    | 4    |\n",
       "|  9.2 | 3    | 1    |\n",
       "|  9.4 | 3    | 2    |\n",
       "|  9.5 | 3    | 3    |\n",
       "|  9.7 | 3    | 4    |\n",
       "|  9.7 | 4    | 1    |\n",
       "|  9.6 | 4    | 2    |\n",
       "| 10.0 | 4    | 3    |\n",
       "| 10.2 | 4    | 4    |\n",
       "\n"
      ],
      "text/plain": [
       "   y    tip coupon\n",
       "1   9.3 1   1     \n",
       "2   9.4 1   2     \n",
       "3   9.6 1   3     \n",
       "4  10.0 1   4     \n",
       "5   9.4 2   1     \n",
       "6   9.3 2   2     \n",
       "7   9.8 2   3     \n",
       "8   9.9 2   4     \n",
       "9   9.2 3   1     \n",
       "10  9.4 3   2     \n",
       "11  9.5 3   3     \n",
       "12  9.7 3   4     \n",
       "13  9.7 4   1     \n",
       "14  9.6 4   2     \n",
       "15 10.0 4   3     \n",
       "16 10.2 4   4     "
      ]
     },
     "metadata": {},
     "output_type": "display_data"
    }
   ],
   "source": [
    "tip    = factor(rep(1:4, each = 4))\n",
    "coupon = factor(rep(1:4, times = 4))\n",
    "y = c(9.3, 9.4, 9.6, 10,\n",
    "       9.4, 9.3, 9.8, 9.9,\n",
    "       9.2, 9.4, 9.5, 9.7,\n",
    "       9.7, 9.6, 10, 10.2)\n",
    "hardness = data.frame(y, tip, coupon)\n",
    "hardness\n"
   ]
  },
  {
   "cell_type": "markdown",
   "metadata": {},
   "source": [
    "#### (a) Construct interaction plots for tip and coupon."
   ]
  },
  {
   "cell_type": "code",
   "execution_count": 38,
   "metadata": {},
   "outputs": [
    {
     "data": {
      "image/png": "[encoded data removed]",
      "text/plain": [
       "plot without title"
      ]
     },
     "metadata": {},
     "output_type": "display_data"
    }
   ],
   "source": [
    "interaction.plot(hardness$coupon, hardness$tip, hardness$y)"
   ]
  },
  {
   "cell_type": "markdown",
   "metadata": {},
   "source": [
    "Notice above that there is no *replication* within blocks here: for example, tip 1 is tested on coupon 1 only once. So, with 16 total data points, we won't have enough data to conduct any tests of we include interaction terms.\n",
    "\n",
    "#### Show this by running a two-way ANOVA with an interaction term. What do you notice?"
   ]
  },
  {
   "cell_type": "code",
   "execution_count": 39,
   "metadata": {},
   "outputs": [
    {
     "name": "stderr",
     "output_type": "stream",
     "text": [
      "Warning message in anova.lm(lm(data = hardness, y ~ tip + coupon + tip:coupon)):\n",
      "\"ANOVA F-tests on an essentially perfect fit are unreliable\""
     ]
    },
    {
     "data": {
      "text/html": [
       "<table>\n",
       "<thead><tr><th></th><th scope=col>Df</th><th scope=col>Sum Sq</th><th scope=col>Mean Sq</th><th scope=col>F value</th><th scope=col>Pr(&gt;F)</th></tr></thead>\n",
       "<tbody>\n",
       "\t<tr><th scope=row>tip</th><td>3          </td><td>0.385      </td><td>0.128333333</td><td>NaN        </td><td>NaN        </td></tr>\n",
       "\t<tr><th scope=row>coupon</th><td>3          </td><td>0.825      </td><td>0.275000000</td><td>NaN        </td><td>NaN        </td></tr>\n",
       "\t<tr><th scope=row>tip:coupon</th><td>9          </td><td>0.080      </td><td>0.008888889</td><td>NaN        </td><td>NaN        </td></tr>\n",
       "\t<tr><th scope=row>Residuals</th><td>0          </td><td>0.000      </td><td>        NaN</td><td> NA        </td><td> NA        </td></tr>\n",
       "</tbody>\n",
       "</table>\n"
      ],
      "text/latex": [
       "\\begin{tabular}{r|lllll}\n",
       "  & Df & Sum Sq & Mean Sq & F value & Pr(>F)\\\\\n",
       "\\hline\n",
       "\ttip & 3           & 0.385       & 0.128333333 & NaN         & NaN        \\\\\n",
       "\tcoupon & 3           & 0.825       & 0.275000000 & NaN         & NaN        \\\\\n",
       "\ttip:coupon & 9           & 0.080       & 0.008888889 & NaN         & NaN        \\\\\n",
       "\tResiduals & 0           & 0.000       &         NaN &  NA         &  NA        \\\\\n",
       "\\end{tabular}\n"
      ],
      "text/markdown": [
       "\n",
       "| <!--/--> | Df | Sum Sq | Mean Sq | F value | Pr(>F) |\n",
       "|---|---|---|---|---|---|\n",
       "| tip | 3           | 0.385       | 0.128333333 | NaN         | NaN         |\n",
       "| coupon | 3           | 0.825       | 0.275000000 | NaN         | NaN         |\n",
       "| tip:coupon | 9           | 0.080       | 0.008888889 | NaN         | NaN         |\n",
       "| Residuals | 0           | 0.000       |         NaN |  NA         |  NA         |\n",
       "\n"
      ],
      "text/plain": [
       "           Df Sum Sq Mean Sq     F value Pr(>F)\n",
       "tip        3  0.385  0.128333333 NaN     NaN   \n",
       "coupon     3  0.825  0.275000000 NaN     NaN   \n",
       "tip:coupon 9  0.080  0.008888889 NaN     NaN   \n",
       "Residuals  0  0.000          NaN  NA      NA   "
      ]
     },
     "metadata": {},
     "output_type": "display_data"
    }
   ],
   "source": [
    "anova(lm(data = hardness, y ~ tip + coupon + tip:coupon))"
   ]
  },
  {
   "cell_type": "markdown",
   "metadata": {},
   "source": [
    "We get a nice warning from R about how ANOVA on a perfect fit is unreliable, which makes sense because there is no replication so the model we construct can fit exactly to the data, which implies the error term is 0 which is unlikely"
   ]
  },
  {
   "cell_type": "markdown",
   "metadata": {},
   "source": [
    "#### (b) Check for a treatment effect, without interaction terms (CRBD). The lm() and anova() functions will give us some important results. Interpret!"
   ]
  },
  {
   "cell_type": "code",
   "execution_count": 55,
   "metadata": {},
   "outputs": [
    {
     "data": {
      "text/html": [
       "<table>\n",
       "<thead><tr><th></th><th scope=col>Df</th><th scope=col>Sum Sq</th><th scope=col>Mean Sq</th><th scope=col>F value</th><th scope=col>Pr(&gt;F)</th></tr></thead>\n",
       "<tbody>\n",
       "\t<tr><th scope=row>tip</th><td>3           </td><td>0.385       </td><td>0.128333333 </td><td>14.4375     </td><td>0.0008712721</td></tr>\n",
       "\t<tr><th scope=row>coupon</th><td>3           </td><td>0.825       </td><td>0.275000000 </td><td>30.9375     </td><td>0.0000452327</td></tr>\n",
       "\t<tr><th scope=row>Residuals</th><td>9           </td><td>0.080       </td><td>0.008888889 </td><td>     NA     </td><td>          NA</td></tr>\n",
       "</tbody>\n",
       "</table>\n"
      ],
      "text/latex": [
       "\\begin{tabular}{r|lllll}\n",
       "  & Df & Sum Sq & Mean Sq & F value & Pr(>F)\\\\\n",
       "\\hline\n",
       "\ttip & 3            & 0.385        & 0.128333333  & 14.4375      & 0.0008712721\\\\\n",
       "\tcoupon & 3            & 0.825        & 0.275000000  & 30.9375      & 0.0000452327\\\\\n",
       "\tResiduals & 9            & 0.080        & 0.008888889  &      NA      &           NA\\\\\n",
       "\\end{tabular}\n"
      ],
      "text/markdown": [
       "\n",
       "| <!--/--> | Df | Sum Sq | Mean Sq | F value | Pr(>F) |\n",
       "|---|---|---|---|---|---|\n",
       "| tip | 3            | 0.385        | 0.128333333  | 14.4375      | 0.0008712721 |\n",
       "| coupon | 3            | 0.825        | 0.275000000  | 30.9375      | 0.0000452327 |\n",
       "| Residuals | 9            | 0.080        | 0.008888889  |      NA      |           NA |\n",
       "\n"
      ],
      "text/plain": [
       "          Df Sum Sq Mean Sq     F value Pr(>F)      \n",
       "tip       3  0.385  0.128333333 14.4375 0.0008712721\n",
       "coupon    3  0.825  0.275000000 30.9375 0.0000452327\n",
       "Residuals 9  0.080  0.008888889      NA           NA"
      ]
     },
     "metadata": {},
     "output_type": "display_data"
    }
   ],
   "source": [
    "lmod3 = lm(data = hardness, y ~ tip + coupon)\n",
    "anova(lmod3)"
   ]
  },
  {
   "cell_type": "markdown",
   "metadata": {},
   "source": [
    "We can see that the P-value for the tip factor is below 0.05 and so we conclude that that we reject $H_0:$ the reduced model is sufficient. So we will use the complete model because there is a difference in hardness based on which tip was used"
   ]
  },
  {
   "cell_type": "markdown",
   "metadata": {},
   "source": [
    "#### (c) Compare the estimate of the error variance for the RCBD against a CRD. Have we reduced that variance by using blocking?"
   ]
  },
  {
   "cell_type": "code",
   "execution_count": 52,
   "metadata": {},
   "outputs": [
    {
     "data": {
      "text/plain": [
       "Call:\n",
       "   aov(formula = lm(data = hardness, y ~ tip))\n",
       "\n",
       "Terms:\n",
       "                  tip Residuals\n",
       "Sum of Squares  0.385     0.905\n",
       "Deg. of Freedom     3        12\n",
       "\n",
       "Residual standard error: 0.274621\n",
       "Estimated effects may be unbalanced"
      ]
     },
     "metadata": {},
     "output_type": "display_data"
    },
    {
     "data": {
      "text/plain": [
       "Call:\n",
       "   aov(formula = lmod3)\n",
       "\n",
       "Terms:\n",
       "                  tip coupon Residuals\n",
       "Sum of Squares  0.385  0.825     0.080\n",
       "Deg. of Freedom     3      3         9\n",
       "\n",
       "Residual standard error: 0.0942809\n",
       "Estimated effects may be unbalanced"
      ]
     },
     "metadata": {},
     "output_type": "display_data"
    }
   ],
   "source": [
    "aov(lm(data = hardness, y ~ tip))\n",
    "aov(lmod3)"
   ]
  },
  {
   "cell_type": "markdown",
   "metadata": {},
   "source": [
    "Using our analysis of variance we see that the residual standard error is substainally reduced by adding the blocking factor in"
   ]
  },
  {
   "cell_type": "markdown",
   "metadata": {},
   "source": [
    "#### (d) \n",
    "\n",
    "Let's take a look at the use of contrasts. Recall that a contrast takes the form \n",
    "\n",
    "$$\\sum_{i=1}^t c_i\\mu_i = 0,$$\n",
    "\n",
    "where $\\mathbf{c} = (c_1,...,c_t)$ is a constant vector and $\\mathbf{\\mu} = (\\mu_1,...,\\mu_t)$ is a parameter vector (e.g., $\\mu_1$ is the mean of the $i^{th}$ group). \n",
    "\n",
    "We can note that $\\mathbf{c} = (-1,1,0,0)$ corresponds to the null hypothesis $H_0: \\mu_2 - \\mu_1 = 0$, where $\\mu_1$ is the mean associated with tip1 and $\\mu_2$ is the mean associated with tip2.  \n",
    "\n",
    "#### Write code below tests this hypothesis. What should we conclude?"
   ]
  },
  {
   "cell_type": "code",
   "execution_count": 56,
   "metadata": {},
   "outputs": [
    {
     "data": {
      "text/plain": [
       "\n",
       "\t Simultaneous Tests for General Linear Hypotheses\n",
       "\n",
       "Multiple Comparisons of Means: User-defined Contrasts\n",
       "\n",
       "\n",
       "Fit: lm(formula = y ~ tip + coupon, data = hardness)\n",
       "\n",
       "Linear Hypotheses:\n",
       "       Estimate Std. Error t value Pr(>|t|)\n",
       "1 == 0  0.02500    0.06667   0.375    0.716\n",
       "(Adjusted p values reported -- single-step method)\n"
      ]
     },
     "metadata": {},
     "output_type": "display_data"
    }
   ],
   "source": [
    "contrast = glht(lmod3, linfct = mcp(tip = c(-1,1,0,0)))\n",
    "summary(contrast)"
   ]
  },
  {
   "cell_type": "markdown",
   "metadata": {},
   "source": [
    "We see that our p-value is above 0.05 so we cannot conclude there is a difference in the means of tip 1 and tip 2"
   ]
  },
  {
   "cell_type": "markdown",
   "metadata": {},
   "source": [
    "Notice that this test has already been done for us in the t-test for tip2 above. So, a nontrivial use of contrasts is to test the difference between means, where neither are the control in the model. \n",
    "\n",
    "#### (e) For example, test $H_0: \\mu_4 - \\mu_3 = 0$."
   ]
  },
  {
   "cell_type": "code",
   "execution_count": 57,
   "metadata": {},
   "outputs": [
    {
     "data": {
      "text/plain": [
       "\n",
       "\t Simultaneous Tests for General Linear Hypotheses\n",
       "\n",
       "Multiple Comparisons of Means: User-defined Contrasts\n",
       "\n",
       "\n",
       "Fit: lm(formula = y ~ tip + coupon, data = hardness)\n",
       "\n",
       "Linear Hypotheses:\n",
       "       Estimate Std. Error t value Pr(>|t|)    \n",
       "1 == 0  0.42500    0.06667   6.375 0.000129 ***\n",
       "---\n",
       "Signif. codes:  0 '***' 0.001 '**' 0.01 '*' 0.05 '.' 0.1 ' ' 1\n",
       "(Adjusted p values reported -- single-step method)\n"
      ]
     },
     "metadata": {},
     "output_type": "display_data"
    }
   ],
   "source": [
    "contrast = glht(lmod3, linfct = mcp(tip = c(0,0,-1,1)))\n",
    "summary(contrast)"
   ]
  },
  {
   "cell_type": "markdown",
   "metadata": {},
   "source": [
    "We can see that the p-value is below 0.05 so we can conclude at the 95% confidence level that there is difference in the means from tip 3 to tip 4"
   ]
  },
  {
   "cell_type": "markdown",
   "metadata": {},
   "source": [
    "Further, we might test all possible pairwise comparisons between treatments. This can be done by setting the treatment factor (tip) to \"Tukey\". Notice that the p-values are adjusted (because we are conducting multiple hypotheses!)."
   ]
  },
  {
   "cell_type": "code",
   "execution_count": 58,
   "metadata": {},
   "outputs": [
    {
     "data": {
      "text/plain": [
       "\n",
       "\t Simultaneous Tests for General Linear Hypotheses\n",
       "\n",
       "Multiple Comparisons of Means: User-defined Contrasts\n",
       "\n",
       "\n",
       "Fit: lm(formula = y ~ tip + coupon, data = hardness)\n",
       "\n",
       "Linear Hypotheses:\n",
       "       Estimate Std. Error t value Pr(>|t|)  \n",
       "1 == 0 -0.15000    0.06667   -2.25    0.051 .\n",
       "---\n",
       "Signif. codes:  0 '***' 0.001 '**' 0.01 '*' 0.05 '.' 0.1 ' ' 1\n",
       "(Adjusted p values reported -- single-step method)\n"
      ]
     },
     "metadata": {},
     "output_type": "display_data"
    },
    {
     "data": {
      "text/plain": [
       "\n",
       "\t Simultaneous Tests for General Linear Hypotheses\n",
       "\n",
       "Multiple Comparisons of Means: Tukey Contrasts\n",
       "\n",
       "\n",
       "Fit: lm(formula = y ~ tip + coupon, data = hardness)\n",
       "\n",
       "Linear Hypotheses:\n",
       "           Estimate Std. Error t value Pr(>|t|)    \n",
       "2 - 1 == 0  0.02500    0.06667   0.375  0.98088    \n",
       "3 - 1 == 0 -0.12500    0.06667  -1.875  0.30254    \n",
       "4 - 1 == 0  0.30000    0.06667   4.500  0.00664 ** \n",
       "3 - 2 == 0 -0.15000    0.06667  -2.250  0.18126    \n",
       "4 - 2 == 0  0.27500    0.06667   4.125  0.01154 *  \n",
       "4 - 3 == 0  0.42500    0.06667   6.375  < 0.001 ***\n",
       "---\n",
       "Signif. codes:  0 '***' 0.001 '**' 0.01 '*' 0.05 '.' 0.1 ' ' 1\n",
       "(Adjusted p values reported -- single-step method)\n"
      ]
     },
     "metadata": {},
     "output_type": "display_data"
    }
   ],
   "source": [
    "fit.gh = glht(lmod3, linfct = mcp(tip = c(0,-1,1,0)))\n",
    "summary(fit.gh)\n",
    "\n",
    "fit.gh = glht(lmod3, linfct = mcp(tip = \"Tukey\"))\n",
    "summary(fit.gh)"
   ]
  },
  {
   "cell_type": "code",
   "execution_count": null,
   "metadata": {},
   "outputs": [],
   "source": []
  }
 ],
 "metadata": {
  "kernelspec": {
   "display_name": "R",
   "language": "R",
   "name": "ir"
  },
  "language_info": {
   "codemirror_mode": "r",
   "file_extension": ".r",
   "mimetype": "text/x-r-source",
   "name": "R",
   "pygments_lexer": "r",
   "version": "3.6.1"
  }
 },
 "nbformat": 4,
 "nbformat_minor": 2
}
